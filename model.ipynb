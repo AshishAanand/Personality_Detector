{
 "cells": [
  {
   "cell_type": "code",
   "execution_count": 8,
   "id": "55d68abe",
   "metadata": {},
   "outputs": [],
   "source": [
    "import pandas as pd\n",
    "from sklearn.model_selection import train_test_split\n",
    "from sklearn.linear_model import LogisticRegression\n",
    "from sklearn.metrics import accuracy_score, confusion_matrix, classification_report\n",
    "import joblib"
   ]
  },
  {
   "cell_type": "markdown",
   "id": "7f010e38",
   "metadata": {},
   "source": [
    "# Loding Data"
   ]
  },
  {
   "cell_type": "code",
   "execution_count": 2,
   "id": "533f53c5",
   "metadata": {},
   "outputs": [
    {
     "data": {
      "application/vnd.microsoft.datawrangler.viewer.v0+json": {
       "columns": [
        {
         "name": "index",
         "rawType": "int64",
         "type": "integer"
        },
        {
         "name": "Time_spent_Alone",
         "rawType": "float64",
         "type": "float"
        },
        {
         "name": "Stage_fear",
         "rawType": "int64",
         "type": "integer"
        },
        {
         "name": "Social_event_attendance",
         "rawType": "float64",
         "type": "float"
        },
        {
         "name": "Going_outside",
         "rawType": "float64",
         "type": "float"
        },
        {
         "name": "Drained_after_socializing",
         "rawType": "int64",
         "type": "integer"
        },
        {
         "name": "Friends_circle_size",
         "rawType": "float64",
         "type": "float"
        },
        {
         "name": "Post_frequency",
         "rawType": "float64",
         "type": "float"
        },
        {
         "name": "Personality",
         "rawType": "int64",
         "type": "integer"
        }
       ],
       "ref": "36ceda85-ac68-495e-8ca4-d0875e7f877d",
       "rows": [
        [
         "0",
         "-0.061497162596902",
         "0",
         "-0.0762616311765395",
         "1.2617841712990912",
         "0",
         "1.50115291721675",
         "0.401335401985483",
         "0"
        ],
        [
         "1",
         "1.407601721662421",
         "1",
         "-1.468568953438725",
         "-1.445832783248301",
         "1",
         "-1.5515478704040129",
         "-0.2855062468352352",
         "1"
        ],
        [
         "2",
         "1.407601721662421",
         "1",
         "-1.1204921228731786",
         "-0.5432937983991702",
         "1",
         "-0.3774321828575654",
         "-0.6289270712455943",
         "1"
        ],
        [
         "3",
         "-1.2367762700043603",
         "0",
         "0.6198920299545532",
         "1.7130536637236564",
         "0",
         "1.7359760547260394",
         "1.4315978752165603",
         "0"
        ],
        [
         "4",
         "-0.3553169394487666",
         "0",
         "1.6641225216511923",
         "0.3592451864499604",
         "0",
         "0.3270372296703028",
         "0.401335401985483",
         "0"
        ]
       ],
       "shape": {
        "columns": 8,
        "rows": 5
       }
      },
      "text/html": [
       "<div>\n",
       "<style scoped>\n",
       "    .dataframe tbody tr th:only-of-type {\n",
       "        vertical-align: middle;\n",
       "    }\n",
       "\n",
       "    .dataframe tbody tr th {\n",
       "        vertical-align: top;\n",
       "    }\n",
       "\n",
       "    .dataframe thead th {\n",
       "        text-align: right;\n",
       "    }\n",
       "</style>\n",
       "<table border=\"1\" class=\"dataframe\">\n",
       "  <thead>\n",
       "    <tr style=\"text-align: right;\">\n",
       "      <th></th>\n",
       "      <th>Time_spent_Alone</th>\n",
       "      <th>Stage_fear</th>\n",
       "      <th>Social_event_attendance</th>\n",
       "      <th>Going_outside</th>\n",
       "      <th>Drained_after_socializing</th>\n",
       "      <th>Friends_circle_size</th>\n",
       "      <th>Post_frequency</th>\n",
       "      <th>Personality</th>\n",
       "    </tr>\n",
       "  </thead>\n",
       "  <tbody>\n",
       "    <tr>\n",
       "      <th>0</th>\n",
       "      <td>-0.061497</td>\n",
       "      <td>0</td>\n",
       "      <td>-0.076262</td>\n",
       "      <td>1.261784</td>\n",
       "      <td>0</td>\n",
       "      <td>1.501153</td>\n",
       "      <td>0.401335</td>\n",
       "      <td>0</td>\n",
       "    </tr>\n",
       "    <tr>\n",
       "      <th>1</th>\n",
       "      <td>1.407602</td>\n",
       "      <td>1</td>\n",
       "      <td>-1.468569</td>\n",
       "      <td>-1.445833</td>\n",
       "      <td>1</td>\n",
       "      <td>-1.551548</td>\n",
       "      <td>-0.285506</td>\n",
       "      <td>1</td>\n",
       "    </tr>\n",
       "    <tr>\n",
       "      <th>2</th>\n",
       "      <td>1.407602</td>\n",
       "      <td>1</td>\n",
       "      <td>-1.120492</td>\n",
       "      <td>-0.543294</td>\n",
       "      <td>1</td>\n",
       "      <td>-0.377432</td>\n",
       "      <td>-0.628927</td>\n",
       "      <td>1</td>\n",
       "    </tr>\n",
       "    <tr>\n",
       "      <th>3</th>\n",
       "      <td>-1.236776</td>\n",
       "      <td>0</td>\n",
       "      <td>0.619892</td>\n",
       "      <td>1.713054</td>\n",
       "      <td>0</td>\n",
       "      <td>1.735976</td>\n",
       "      <td>1.431598</td>\n",
       "      <td>0</td>\n",
       "    </tr>\n",
       "    <tr>\n",
       "      <th>4</th>\n",
       "      <td>-0.355317</td>\n",
       "      <td>0</td>\n",
       "      <td>1.664123</td>\n",
       "      <td>0.359245</td>\n",
       "      <td>0</td>\n",
       "      <td>0.327037</td>\n",
       "      <td>0.401335</td>\n",
       "      <td>0</td>\n",
       "    </tr>\n",
       "  </tbody>\n",
       "</table>\n",
       "</div>"
      ],
      "text/plain": [
       "   Time_spent_Alone  Stage_fear  Social_event_attendance  Going_outside  \\\n",
       "0         -0.061497           0                -0.076262       1.261784   \n",
       "1          1.407602           1                -1.468569      -1.445833   \n",
       "2          1.407602           1                -1.120492      -0.543294   \n",
       "3         -1.236776           0                 0.619892       1.713054   \n",
       "4         -0.355317           0                 1.664123       0.359245   \n",
       "\n",
       "   Drained_after_socializing  Friends_circle_size  Post_frequency  Personality  \n",
       "0                          0             1.501153        0.401335            0  \n",
       "1                          1            -1.551548       -0.285506            1  \n",
       "2                          1            -0.377432       -0.628927            1  \n",
       "3                          0             1.735976        1.431598            0  \n",
       "4                          0             0.327037        0.401335            0  "
      ]
     },
     "execution_count": 2,
     "metadata": {},
     "output_type": "execute_result"
    }
   ],
   "source": [
    "data = pd.read_csv('cleaned_personality_dataset.csv')\n",
    "\n",
    "data.head()"
   ]
  },
  {
   "cell_type": "markdown",
   "id": "ec3a2cc9",
   "metadata": {},
   "source": [
    "# ML"
   ]
  },
  {
   "cell_type": "code",
   "execution_count": 3,
   "id": "15dadc68",
   "metadata": {},
   "outputs": [],
   "source": [
    "X = data.drop(['Personality'], axis=1)\n",
    "y = data['Personality']"
   ]
  },
  {
   "cell_type": "code",
   "execution_count": 5,
   "id": "dd6f75c9",
   "metadata": {},
   "outputs": [
    {
     "name": "stdout",
     "output_type": "stream",
     "text": [
      "Accuracy: 0.9224652087475149\n",
      "Confusion Matrix:\n",
      " [[265  17]\n",
      " [ 22 199]]\n",
      "Classification Report:\n",
      "               precision    recall  f1-score   support\n",
      "\n",
      "           0       0.92      0.94      0.93       282\n",
      "           1       0.92      0.90      0.91       221\n",
      "\n",
      "    accuracy                           0.92       503\n",
      "   macro avg       0.92      0.92      0.92       503\n",
      "weighted avg       0.92      0.92      0.92       503\n",
      "\n"
     ]
    }
   ],
   "source": [
    "X_train, X_test, y_train, y_test = train_test_split(X, y, test_size=0.2, random_state=42)\n",
    "model = LogisticRegression(max_iter=1000)\n",
    "model.fit(X_train, y_train)\n",
    "y_pred = model.predict(X_test)\n",
    "print(\"Accuracy:\", accuracy_score(y_test, y_pred))\n",
    "print(\"Confusion Matrix:\\n\", confusion_matrix(y_test, y_pred))\n",
    "print(\"Classification Report:\\n\", classification_report(y_test, y_pred))"
   ]
  },
  {
   "cell_type": "code",
   "execution_count": 7,
   "id": "e4f3f1e0",
   "metadata": {},
   "outputs": [
    {
     "name": "stdout",
     "output_type": "stream",
     "text": [
      "Extrovert\n"
     ]
    },
    {
     "name": "stderr",
     "output_type": "stream",
     "text": [
      "c:\\Users\\HP\\AppData\\Local\\Programs\\Python\\Python311\\Lib\\site-packages\\sklearn\\utils\\validation.py:2739: UserWarning: X does not have valid feature names, but LogisticRegression was fitted with feature names\n",
      "  warnings.warn(\n"
     ]
    }
   ],
   "source": [
    "# Testing Personality Prediction\n",
    "def predict_personality(features):\n",
    "    prediction = model.predict([features])\n",
    "    return prediction[0]\n",
    "data = [1.0, 0, 5.0, 5.0, 0, 5.0, 10.0]\n",
    "\n",
    "result = predict_personality(data)\n",
    "\n",
    "if result == 0:\n",
    "    result = \"Extrovert\"\n",
    "else:\n",
    "    result = \"Introvert\"\n",
    "\n",
    "print(result)\n"
   ]
  },
  {
   "cell_type": "code",
   "execution_count": 9,
   "id": "3c388315",
   "metadata": {},
   "outputs": [
    {
     "data": {
      "text/plain": [
       "['personality_model.pkl']"
      ]
     },
     "execution_count": 9,
     "metadata": {},
     "output_type": "execute_result"
    }
   ],
   "source": [
    "# Saving the model\n",
    "joblib.dump(model, 'personality_model.pkl')"
   ]
  },
  {
   "cell_type": "code",
   "execution_count": null,
   "id": "3258b614",
   "metadata": {},
   "outputs": [],
   "source": []
  }
 ],
 "metadata": {
  "kernelspec": {
   "display_name": "Python 3",
   "language": "python",
   "name": "python3"
  },
  "language_info": {
   "codemirror_mode": {
    "name": "ipython",
    "version": 3
   },
   "file_extension": ".py",
   "mimetype": "text/x-python",
   "name": "python",
   "nbconvert_exporter": "python",
   "pygments_lexer": "ipython3",
   "version": "3.11.7"
  }
 },
 "nbformat": 4,
 "nbformat_minor": 5
}
